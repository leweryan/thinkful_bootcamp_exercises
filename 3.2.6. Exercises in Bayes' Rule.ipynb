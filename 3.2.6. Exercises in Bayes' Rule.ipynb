{
 "cells": [
  {
   "cell_type": "markdown",
   "metadata": {},
   "source": [
    "### A diagnostic test has a 98% probability of giving a positive result when applied to a person suffering from Thripshaw's Disease, and 10% probability of giving a (false) positive when applied to a non-sufferer. It is estimated that 0.5 % of the population are sufferers. "
   ]
  },
  {
   "cell_type": "markdown",
   "metadata": {},
   "source": [
    "#### Suppose that the test is now administered to a person whose disease status is unknown. Calculate the probability that the test will:\n",
    "\n",
    "##### First look over the numbers and estimate each of the four probabilities, using your intuition.\n",
    "<table width=\"100%\">\n",
    "  <tr>\n",
    "    <th>Test Result</th>\n",
    "    <th>Likelihood (Intuition)</th>\n",
    "  </tr>\n",
    "  <tr>\n",
    "      <td>Be positive</td>\n",
    "      <td>$$0.5\\% \\times 98\\% + 99.5\\% \\times 10\\% \\approx$$ <b>10.5%</b></td>\n",
    "  </tr>\n",
    "  <tr>\n",
    "      <td>Correctly diagnose a sufferer of Thripshaw's</td>\n",
    "      <td><b>98%</b></td>\n",
    "  </tr>\n",
    "  <tr>\n",
    "      <td>Correctly identify a non-sufferer of Thripshaw's</td>\n",
    "      <td>$$100\\% - 10\\% = $$<b>90%</b></td>\n",
    "  </tr>\n",
    "  <tr>\n",
    "      <td>Misclassify the person</td>\n",
    "      <td>$$0.5\\% \\times 2\\% + 99.5\\% \\times 10\\% \\approx $$ <b>10%</b></td>\n",
    "  </tr>\n",
    "</table>"
   ]
  },
  {
   "cell_type": "markdown",
   "metadata": {},
   "source": [
    "##### Then, calculate the probabilities using Bayes' rule.\n",
    "<table width=\"100%\">\n",
    "  <tr>\n",
    "    <th>Test Result</th>\n",
    "    <th>Likelihood (Bayes' Rule)</th>\n",
    "  </tr>\n",
    "  <tr>\n",
    "      <td>Be positive</td>\n",
    "      <td>P(positive)<br>\n",
    "      = P(positive|sufferer) \\* P(sufferer) + P(positive|non-suffer) \\* P(non-sufferer)<br>\n",
    "      = 98% \\* 0.5% + 10% \\* 99.5% = .1044 <br>\n",
    "      = <b>10.44%</b></td>\n",
    "  </tr>\n",
    "  <tr>\n",
    "      <td>Correctly diagnose a sufferer of Thripshaw's</td>\n",
    "      <td>P(positive|sufferer) = <b>98%</b><br>\n",
    "      <br>\n",
    "      If a random person, and not a sufferer:<br>\n",
    "      P(positive|suffer) \\* P(sufferer)<br>\n",
    "      = 98% \\* 0.5%<br>\n",
    "      = .49%</td>\n",
    "  </tr>\n",
    "  <tr>\n",
    "      <td>Correctly identify a non-sufferer of Thripshaw's</td>\n",
    "      <td>P(false|non-sufferer) = 1 - P(true|non-sufferer) = 100% - 10% = <b>90%</b><br>\n",
    "      <br>\n",
    "      If a random person, and not a non-sufferer:<br>\n",
    "      P(false|non-sufferer) \\* P(non-sufferer) <br>\n",
    "      = 90% \\* (100% - .5%) = 90% \\* 99.5%<br>\n",
    "      = 89.55%</td>\n",
    "  </tr>\n",
    "  <tr>\n",
    "      <td>Misclassify the person</td>\n",
    "      <td>P(misclassify sufferer) + P(misclassify non-sufferer)<br>\n",
    "      = P(false|sufferer) \\* P(sufferer) + P(positive|non-sufferer) \\* P(non-sufferer)<br>\n",
    "      = 2% \\* 0.5% + 10% \\* 99.5%<br>\n",
    "      = 9.96%</td>\n",
    "  </tr>\n",
    "</table>"
   ]
  },
  {
   "cell_type": "markdown",
   "metadata": {},
   "source": [
    "I was unclear as to whether \"Correctly diagnose a sufferer of Thripshaw's\" means:<br>\n",
    "<br>\n",
    "Correctly diagnose a sufferer of Thripshaw's given they are a sufferer of Thripshaw's<br>\n",
    "#### or<br>\n",
    "Correctly diagnose a sufferer of Thripshaw's given they are a random person of the population<br>\n",
    "= Correctly diagnose a sufferer of Thripshaw's * sufferer of Thripshaw's<br>"
   ]
  },
  {
   "cell_type": "code",
   "execution_count": null,
   "metadata": {
    "collapsed": true
   },
   "outputs": [],
   "source": []
  }
 ],
 "metadata": {
  "kernelspec": {
   "display_name": "Python 3",
   "language": "python",
   "name": "python3"
  },
  "language_info": {
   "codemirror_mode": {
    "name": "ipython",
    "version": 3
   },
   "file_extension": ".py",
   "mimetype": "text/x-python",
   "name": "python",
   "nbconvert_exporter": "python",
   "pygments_lexer": "ipython3",
   "version": "3.6.1"
  }
 },
 "nbformat": 4,
 "nbformat_minor": 2
}
