{
 "cells": [
  {
   "cell_type": "markdown",
   "metadata": {},
   "source": [
    "### Specifically, create two binomially distributed populations with n equal to 10 and size equal to 10000. The p-value of pop1 should be 0.2 and the p-value of pop2 should be 0.5. Using a sample size of 100, calculate the means and standard deviations of your samples.\n",
    "\n",
    "#### For each of the following tasks, first write what you expect will happen, then code the changes and observe what does happen. Discuss the results with your mentor.\n"
   ]
  },
  {
   "cell_type": "code",
   "execution_count": 2,
   "metadata": {
    "collapsed": true
   },
   "outputs": [],
   "source": [
    "import numpy as np\n",
    "import pandas as pd\n",
    "import scipy\n",
    "from scipy.stats import ttest_ind\n",
    "import matplotlib.pyplot as plt\n",
    "%matplotlib inline\n",
    "\n",
    "pop1 = np.random.binomial(10, 0.2, 10000)\n",
    "pop2 = np.random.binomial(10, 0.5, 10000) \n",
    "\n",
    "# Let’s make histograms for the two groups. \n",
    "\n",
    "#plt.hist(pop1, alpha=0.5, label='Population 1') \n",
    "#plt.hist(pop2, alpha=0.5, label='Population 2') \n",
    "#plt.legend(loc='upper right') \n",
    "#plt.show()"
   ]
  },
  {
   "cell_type": "markdown",
   "metadata": {},
   "source": [
    "#### 1. Increase the size of your samples from 100 to 1000, then calculate the means and standard deviations for your new samples and create histograms for each. Repeat this again, decreasing the size of your samples to 20. What values change, and what remain the same?"
   ]
  },
  {
   "cell_type": "code",
   "execution_count": 3,
   "metadata": {
    "scrolled": true
   },
   "outputs": [
    {
     "data": {
      "image/png": "[encoded data removed]",
      "text/plain": [
       "<matplotlib.figure.Figure at 0x10c678588>"
      ]
     },
     "metadata": {},
     "output_type": "display_data"
    }
   ],
   "source": [
    "sample1_1000 = np.random.choice(pop1, 1000, replace=True)\n",
    "sample2_1000 = np.random.choice(pop2, 1000, replace=True)\n",
    "\n",
    "plt.hist(sample1_1000, alpha=0.5, label='sample 1') \n",
    "plt.hist(sample2_1000, alpha=0.5, label='sample 2') \n",
    "plt.legend(loc='upper right') \n",
    "plt.show()"
   ]
  },
  {
   "cell_type": "code",
   "execution_count": 4,
   "metadata": {
    "scrolled": true
   },
   "outputs": [
    {
     "data": {
      "image/png": "[encoded data removed]",
      "text/plain": [
       "<matplotlib.figure.Figure at 0x10c79f978>"
      ]
     },
     "metadata": {},
     "output_type": "display_data"
    }
   ],
   "source": [
    "sample1_20 = np.random.choice(pop1, 20, replace=True)\n",
    "sample2_20 = np.random.choice(pop2, 20, replace=True)\n",
    "\n",
    "plt.hist(sample1_20, alpha=0.5, label='sample 1') \n",
    "plt.hist(sample2_20, alpha=0.5, label='sample 2') \n",
    "plt.legend(loc='upper right') \n",
    "plt.show()"
   ]
  },
  {
   "cell_type": "markdown",
   "metadata": {},
   "source": [
    "I expect both mean and standard deviation to change more when decreasing the sample size, and can be greater or smaller. The smaller sample size will alternate between greater and lesser than the values of the larger sample size. The larger sample size values will stay more constant and consistently closer to the true values than the smaller sample."
   ]
  },
  {
   "cell_type": "code",
   "execution_count": 5,
   "metadata": {},
   "outputs": [
    {
     "name": "stdout",
     "output_type": "stream",
     "text": [
      "Sample1 (100 samples) Mean: 1.988\n",
      "Sample1 (100 samples) Standard Deviation: 1.2561273820755599\n",
      "\n",
      "Sample2 (100 samples) Mean: 4.934\n",
      "Sample2 (100 samples) Standard Deviation: 1.6375725938107295\n",
      "\n",
      "Sample1 (20 samples) Mean: 1.95\n",
      "Sample1 (20 samples) Standard Deviation: 1.16081867662439\n",
      "\n",
      "Sample2 (20 samples) Mean: 5.3\n",
      "Sample2 (20 samples) Standard Deviation: 1.5198684153570665\n"
     ]
    }
   ],
   "source": [
    "print(\"Sample1 (100 samples) Mean: {}\\nSample1 (100 samples) Standard Deviation: {}\\n\".format(np.mean(sample1_1000), np.std(sample1_1000)))\n",
    "print(\"Sample2 (100 samples) Mean: {}\\nSample2 (100 samples) Standard Deviation: {}\\n\".format(np.mean(sample2_1000), np.std(sample2_1000)))\n",
    "print(\"Sample1 (20 samples) Mean: {}\\nSample1 (20 samples) Standard Deviation: {}\\n\".format(np.mean(sample1_20), np.std(sample1_20)))\n",
    "print(\"Sample2 (20 samples) Mean: {}\\nSample2 (20 samples) Standard Deviation: {}\".format(np.mean(sample2_20), np.std(sample2_20)))"
   ]
  },
  {
   "cell_type": "markdown",
   "metadata": {},
   "source": [
    "The mean and standard deviation indeed are further off from that of the population."
   ]
  },
  {
   "cell_type": "markdown",
   "metadata": {},
   "source": [
    "#### 2. Change the population value (p in the NumPy documentation) for pop1 to 0.3, then take new samples and compute the t-statistic and p-value.\n"
   ]
  },
  {
   "cell_type": "code",
   "execution_count": 8,
   "metadata": {},
   "outputs": [],
   "source": [
    "pop1 = np.random.binomial(10, 0.3, 10000)\n",
    "\n",
    "sample1_1000 = np.random.choice(pop1, 1000, replace=True)\n",
    "\n",
    "t_value1, p_value1 = ttest_ind(sample2_1000, sample1_1000, equal_var=False)"
   ]
  },
  {
   "cell_type": "markdown",
   "metadata": {},
   "source": [
    "#### Then change the population value p for group 1 to 0.4, and do it again."
   ]
  },
  {
   "cell_type": "code",
   "execution_count": 10,
   "metadata": {
    "collapsed": true
   },
   "outputs": [],
   "source": [
    "pop1 = np.random.binomial(10, 0.4, 10000)\n",
    "\n",
    "sample1_1000 = np.random.choice(pop1, 1000, replace=True)\n",
    "t_value2, p_value2 = ttest_ind(sample2_1000, sample1_1000, equal_var=False)"
   ]
  },
  {
   "cell_type": "markdown",
   "metadata": {},
   "source": [
    " #### What changes, and why?"
   ]
  },
  {
   "cell_type": "code",
   "execution_count": 12,
   "metadata": {
    "scrolled": true
   },
   "outputs": [
    {
     "name": "stdout",
     "output_type": "stream",
     "text": [
      "t-value (p=0.3 and 0.5) = 28.080699160420735\n",
      "t-value (p=0.4 and 0.5) = 12.231777492158626\n",
      "\n",
      "p-value (p=0.3 and 0.5) = 2.796173246565631e-146\n",
      "p-value (p=0.4 and 0.5) = 3.150520931502091e-33\n"
     ]
    }
   ],
   "source": [
    "print(\n",
    "    \"t-value (p=0.3 and 0.5) = {}\\n\"\n",
    "    \"t-value (p=0.4 and 0.5) = {}\\n\"\n",
    "    \"\\n\"\n",
    "    \"p-value (p=0.3 and 0.5) = {}\\n\"\n",
    "    \"p-value (p=0.4 and 0.5) = {}\". format(t_value1, t_value2, p_value1, p_value2))"
   ]
  },
  {
   "cell_type": "markdown",
   "metadata": {},
   "source": [
    "The t-value (number of standard errors between the two central tendencies) is higher for the first example, as the central tendency for the distribution p=0.3 is much more likely to be further from p=0.5 (sample 2) than p=0.4 .\n",
    "\n",
    "The p-value for the first example is smaller than that of the second example, as the chance that the difference between distribution of p=0.3 and p=0.5 is much less likely to be due to chance of sampling the same population than the difference between p=0.4 and p=0.5, seeing as p=0.3 should have many more differences than p=0.4's distribution, because of the difference in central tendencies."
   ]
  },
  {
   "cell_type": "markdown",
   "metadata": {},
   "source": [
    "#### 3. Change the distribution of your populations from binomial to a distribution of your choice. Do the sample mean values still accurately represent the population values?"
   ]
  },
  {
   "cell_type": "code",
   "execution_count": 18,
   "metadata": {},
   "outputs": [
    {
     "data": {
      "image/png": "[encoded data removed]",
      "text/plain": [
       "<matplotlib.figure.Figure at 0x10ceb9668>"
      ]
     },
     "metadata": {},
     "output_type": "display_data"
    },
    {
     "data": {
      "image/png": "[encoded data removed]",
      "text/plain": [
       "<matplotlib.figure.Figure at 0x10cf08898>"
      ]
     },
     "metadata": {},
     "output_type": "display_data"
    },
    {
     "name": "stdout",
     "output_type": "stream",
     "text": [
      "Population 1 Mean = 0.1968623391098914\n",
      "Sample 1 Mean = 0.19028592381948148\n",
      "\n",
      "Population 2 Mean = 0.4978479731426082\n",
      "Sample 2 Mean = 0.47927178120971853\n"
     ]
    }
   ],
   "source": [
    "pop1 = np.random.exponential(0.2, 10000)\n",
    "pop2 = np.random.exponential(0.5, 10000)\n",
    "\n",
    "sample1 = np.random.choice(pop1, 1000, replace=True)\n",
    "sample2 = np.random.choice(pop2, 1000, replace=True)\n",
    "\n",
    "plt.axvline(x=pop1.mean(), color='blue', label='population 1 mean')\n",
    "plt.axvline(x=sample1.mean(), color='red', label='sample 1 mean')\n",
    "plt.hist(sample1, alpha=0.5, label='sample 1', color='orange') \n",
    "plt.legend(loc='upper right') \n",
    "plt.show()\n",
    "\n",
    "plt.axvline(x=pop2.mean(), color='blue', label='population 2 mean')\n",
    "plt.axvline(x=sample2.mean(), color='red', label='sample 2 mean')\n",
    "plt.hist(sample2, alpha=0.5, label='sample 2', color='orange') \n",
    "plt.legend(loc='upper right') \n",
    "plt.show()\n",
    "\n",
    "print(\n",
    "    \"Population 1 Mean = {}\\n\"\n",
    "    \"Sample 1 Mean = {}\\n\"\n",
    "    \"\\n\"\n",
    "    \"Population 2 Mean = {}\\n\"\n",
    "    \"Sample 2 Mean = {}\". format(pop1.mean(), sample1.mean(), pop2.mean(), sample2.mean()))"
   ]
  },
  {
   "cell_type": "markdown",
   "metadata": {},
   "source": [
    "The sample mean values are still close to the population mean values, with the sample size 1,000 and the population size 10,0000. On the other hand, these means don't have much significance as the distributions are not normal, and not even symmetric nor have a central tendency."
   ]
  },
  {
   "cell_type": "code",
   "execution_count": null,
   "metadata": {
    "collapsed": true
   },
   "outputs": [],
   "source": []
  }
 ],
 "metadata": {
  "kernelspec": {
   "display_name": "Python 3",
   "language": "python",
   "name": "python3"
  },
  "language_info": {
   "codemirror_mode": {
    "name": "ipython",
    "version": 3
   },
   "file_extension": ".py",
   "mimetype": "text/x-python",
   "name": "python",
   "nbconvert_exporter": "python",
   "pygments_lexer": "ipython3",
   "version": "3.6.1"
  }
 },
 "nbformat": 4,
 "nbformat_minor": 2
}
