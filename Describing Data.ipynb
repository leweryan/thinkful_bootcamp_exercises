{
 "cells": [
  {
   "cell_type": "code",
   "execution_count": 17,
   "metadata": {
    "scrolled": true
   },
   "outputs": [
    {
     "data": {
      "text/html": [
       "\n",
       "    <script>\n",
       "        show_code = true; \n",
       "        function change_code_display() {\n",
       "            show_code = !show_code\n",
       "            if (show_code){\n",
       "                $('div.input').show();\n",
       "            } else {\n",
       "                $('div.input').hide();\n",
       "            }\n",
       "        } \n",
       "        $( document ).ready(change_code_display);\n",
       "    </script>\n",
       "    <form action=\"javascript:change_code_display()\">\n",
       "        <input type=\"submit\" value=\"Display raw code ON/OFF\">\n",
       "    </form>"
      ],
      "text/plain": [
       "<IPython.core.display.HTML object>"
      ]
     },
     "execution_count": 17,
     "metadata": {},
     "output_type": "execute_result"
    }
   ],
   "source": [
    "from IPython.display import HTML\n",
    "\n",
    "#Import styles from custom.css\n",
    "def css_custom_style():\n",
    "    styles = open(\"./styles/custom.css\", \"r\").read()\n",
    "    return HTML(styles)\n",
    "css_custom_style()\n",
    "\n",
    "#Create a button to toggle display of raw code\n",
    "HTML('''\n",
    "    <script>\n",
    "        show_code = true; \n",
    "        function change_code_display() {\n",
    "            show_code = !show_code\n",
    "            if (show_code){\n",
    "                $('div.input').show();\n",
    "            } else {\n",
    "                $('div.input').hide();\n",
    "            }\n",
    "        } \n",
    "        $( document ).ready(change_code_display);\n",
    "    </script>\n",
    "    <form action=\"javascript:change_code_display()\">\n",
    "        <input type=\"submit\" value=\"Display raw code ON/OFF\">\n",
    "    </form>''')"
   ]
  },
  {
   "cell_type": "markdown",
   "metadata": {},
   "source": [
    "## 3.1.4 Drill: Describing Data"
   ]
  },
  {
   "cell_type": "markdown",
   "metadata": {},
   "source": [
    "### 1. Greg was 14, Marcia was 12, Peter was 11, Jan was 10, Bobby was 8, and Cindy was 6 when they started playing the Brady kids on The Brady Bunch. Cousin Oliver was 8 years old when he joined the show. What are the mean, median, and mode of the kids' ages when they first appeared on the show? What are the variance, standard deviation, and standard error?"
   ]
  },
  {
   "cell_type": "markdown",
   "metadata": {},
   "source": [
    "<span style='font-size: large;'>Mean</span> = (14 + 12 + 11 + 10 + 8 + 6 + 8) / 7 = <span style='font-size: large; font-weight: bold;'>9.86</span><br>\n",
    "<span style='font-size: large;'>Median</span> = middle(6, 8, 8, <b>10</b>, 11, 12, 14) = <span style='font-size: large; font-weight: bold;'>10</span><br>\n",
    "<span style='font-size: large;'>Mode</span> = most_common(6, <b>8</b>, <b>8</b>, 10, 11, 12, 14) = <span style='font-size: large; font-weight: bold;'>8</span><br>\n",
    "<span style='font-size: large;'>Variance</span> = $\\dfrac{(14 - 9.86)^2 + (12 - 9.86)^2 + (11 - 9.86)^2 + (10 - 9.86)^2 + (8 - 9.86)^2 + (6 - 9.86)^2 + (8 - 9.86)^2}{7 - 1} = \\dfrac{44.86}{6}$  = <span style='font-size: large; font-weight: bold;'>7.48</span><br>\n",
    "<span style='font-size: large;'>Standard Deviation</span> = $\\sqrt{7.48}$ = <span style='font-size: large; font-weight: bold;'>2.73</span><br>\n",
    "<span style='font-size: large;'>Standard Error</span> = $\\dfrac{2.73}{\\sqrt{7}} = \\dfrac{2.73}{2.65}$ = <span style='font-size: large; font-weight: bold;'>1.03</span>"
   ]
  },
  {
   "cell_type": "code",
   "execution_count": 18,
   "metadata": {
    "scrolled": true
   },
   "outputs": [
    {
     "name": "stdout",
     "output_type": "stream",
     "text": [
      "Mean = 9.857142857142858\n",
      "Median = 10.0\n",
      "Mode = 8\n",
      "Variance = 7.476190476190475\n",
      "    Variance = 6.408163265306122\n",
      "        (Using numpy.var(), it seems to divide by n, not n-1...\n",
      "         even though this is the function recommended by documentation.)\n",
      "Standard Deviation = 2.734262327610589\n",
      "Standard Error = 1.0334540197243192\n"
     ]
    }
   ],
   "source": [
    "import pandas as pd\n",
    "import numpy as np\n",
    "\n",
    "brady_bunch = pd.DataFrame()\n",
    "brady_bunch['age'] = [14, 12, 11, 10, 8, 6, 8]\n",
    "\n",
    "print(\"Mean = {}\".format(np.mean(brady_bunch['age'])))\n",
    "print(\"Median = {}\".format(np.median(brady_bunch['age'])))\n",
    "(values, counts) = np.unique(brady_bunch['age'], return_counts=True)\n",
    "median_index = np.argmax(counts)\n",
    "print(\"Mode = {}\".format(values[median_index]))\n",
    "print(\"Variance = {}\".format(brady_bunch['age'].var()))\n",
    "print(\n",
    "    \"    Variance = {}\\n\"\n",
    "    \"        (Using numpy.var(), it seems to divide by n, not n-1...\\n\"\n",
    "    \"         even though this is the function recommended by documentation.)\"\n",
    "    .format(np.var(brady_bunch['age'])))\n",
    "print(\"Standard Deviation = {}\".format(np.std(brady_bunch['age'], ddof=1)))\n",
    "print(\"Standard Error = {}\".format(np.std(brady_bunch['age'], ddof=1) / np.sqrt(len(brady_bunch['age']))))\n",
    "\n"
   ]
  },
  {
   "cell_type": "markdown",
   "metadata": {},
   "source": [
    "### 2. Using these estimates, if you had to choose only one estimate of central tendency and one estimate of variance to describe the data, which would you pick and why?"
   ]
  },
  {
   "cell_type": "markdown",
   "metadata": {},
   "source": [
    "I would choose <b>median</b> for central tendency, because:<br>\n",
    "<ul>\n",
    "  <li>Because it is centrally located in this generally balanced set and not easily affected by additional ages in such a sparse set</li>\n",
    "  <li>Mode is easily affected by additional ages to the set, as two is the maximum number of times a value repeats</li>\n",
    "  <li>Mean might be easily affected by the addition of just one quite large or small age (such as a new birth)</li>\n",
    "</ul>  \n",
    "<br>\n",
    "I would choose <b>standard deviation</b> for variance, because:<br>\n",
    "<ul>\n",
    "  <li>The smallest age and largest age are about one standard devaition away from the central tendency</li>\n",
    "  <li>Variance is too large (twice this size) and so no age is one variace away from the mean</li>\n",
    "  <li>Standard error seems like a secondary descriptive metric, as it is generally small and so does not reveal much more than that the standard deviation is generally accurate</li>\n",
    "</ul> \n",
    "\n"
   ]
  },
  {
   "cell_type": "markdown",
   "metadata": {},
   "source": [
    "### 3. Next, Cindy has a birthday. Update your estimates- what changed, and what didn't?"
   ]
  },
  {
   "cell_type": "code",
   "execution_count": 19,
   "metadata": {},
   "outputs": [
    {
     "name": "stdout",
     "output_type": "stream",
     "text": [
      "Mean = 10.0\n",
      "Median = 10.0\n",
      "Mode = 8\n",
      "Variance = 6.333333333333333\n",
      "    Variance = 5.428571428571429\n",
      "        (Using numpy.var(), it seems to divide by n, not n-1...\n",
      "         even though this is the function recommended by documentation.)\n",
      "Standard Deviation = 2.516611478423583\n",
      "Standard Error = 0.9511897312113418\n"
     ]
    }
   ],
   "source": [
    "import pandas as pd\n",
    "import numpy as np\n",
    "\n",
    "brady_bunch = pd.DataFrame()\n",
    "brady_bunch['age'] = [14, 12, 11, 10, 8, 7, 8]\n",
    "\n",
    "print(\"Mean = {}\".format(np.mean(brady_bunch['age'])))\n",
    "print(\"Median = {}\".format(np.median(brady_bunch['age'])))\n",
    "(values, counts) = np.unique(brady_bunch['age'], return_counts=True)\n",
    "median_index = np.argmax(counts)\n",
    "print(\"Mode = {}\".format(values[median_index]))\n",
    "print(\"Variance = {}\".format(brady_bunch['age'].var()))\n",
    "print(\n",
    "    \"    Variance = {}\\n\"\n",
    "    \"        (Using numpy.var(), it seems to divide by n, not n-1...\\n\"\n",
    "    \"         even though this is the function recommended by documentation.)\"\n",
    "    .format(np.var(brady_bunch['age'])))\n",
    "print(\"Standard Deviation = {}\".format(np.std(brady_bunch['age'], ddof=1)))\n",
    "print(\"Standard Error = {}\".format(np.std(brady_bunch['age'], ddof=1) / np.sqrt(len(brady_bunch['age']))))\n",
    "\n"
   ]
  },
  {
   "cell_type": "markdown",
   "metadata": {},
   "source": [
    "Changed:<br>\n",
    "<ul>\n",
    "    <li>Mean</li>\n",
    "    <li>Variance</li>\n",
    "    <li>Standard Deviation</li>\n",
    "    <li>Standard Error</li>\n",
    "</ul>\n",
    "<br>\n",
    "Stayed the same:<br>\n",
    "<ul>\n",
    "    <li>Median</li>\n",
    "    <li>Mode</li>\n",
    "</ul>"
   ]
  },
  {
   "cell_type": "markdown",
   "metadata": {},
   "source": [
    "### 4. Nobody likes Cousin Oliver. Maybe the network should have used an even younger actor. Replace Cousin Oliver with 1-year-old Jessica, then recalculate again. Does this change your choice of central tendency or variance estimation methods?"
   ]
  },
  {
   "cell_type": "code",
   "execution_count": 20,
   "metadata": {},
   "outputs": [
    {
     "name": "stdout",
     "output_type": "stream",
     "text": [
      "Mean = 9.0\n",
      "Median = 10.0\n",
      "Mode = 1\n",
      "Variance = 18.0\n",
      "    Variance = 15.428571428571429\n",
      "        (Using numpy.var(), it seems to divide by n, not n-1...\n",
      "         even though this is the function recommended by documentation.)\n",
      "Standard Deviation = 4.242640687119285\n",
      "Standard Error = 1.6035674514745462\n"
     ]
    }
   ],
   "source": [
    "import pandas as pd\n",
    "import numpy as np\n",
    "\n",
    "brady_bunch = pd.DataFrame()\n",
    "brady_bunch['age'] = [14, 12, 11, 10, 8, 7, 1]\n",
    "\n",
    "print(\"Mean = {}\".format(np.mean(brady_bunch['age'])))\n",
    "print(\"Median = {}\".format(np.median(brady_bunch['age'])))\n",
    "(values, counts) = np.unique(brady_bunch['age'], return_counts=True)\n",
    "median_index = np.argmax(counts)\n",
    "print(\"Mode = {}\".format(values[median_index]))\n",
    "print(\"Variance = {}\".format(brady_bunch['age'].var()))\n",
    "print(\n",
    "    \"    Variance = {}\\n\"\n",
    "    \"        (Using numpy.var(), it seems to divide by n, not n-1...\\n\"\n",
    "    \"         even though this is the function recommended by documentation.)\"\n",
    "    .format(np.var(brady_bunch['age'])))\n",
    "print(\"Standard Deviation = {}\".format(np.std(brady_bunch['age'], ddof=1)))\n",
    "print(\"Standard Error = {}\".format(np.std(brady_bunch['age'], ddof=1) / np.sqrt(len(brady_bunch['age']))))\n",
    "\n"
   ]
  },
  {
   "cell_type": "markdown",
   "metadata": {},
   "source": [
    "I would still choose <b>median</b>, because:<br>\n",
    "<ul>\n",
    "    <li>The \"middle child\" does not change, and we would likely want to know the middle child.</li>\n",
    "    <li>The mean of 9.0 makes it seem like the age group is younger than it actually is (sensitive to the outlier, Jessica)\n",
    "</ul>\n",
    "<br>\n",
    "I might now choose <b>variance</b> as the measure of variance, because:<br>\n",
    "<ul>\n",
    "    <li>The distribution of ages is no longer symmetrical, so standard deviation does not accurately reflect how ages deviate above and below the central tendency</li>\n",
    "    <li>Variance more accurately reflects the generally large range in ages</li>\n",
    "</ul>"
   ]
  },
  {
   "cell_type": "markdown",
   "metadata": {},
   "source": [
    "### 5. On the 50th anniversary of The Brady Bunch, four different magazines asked their readers whether they were fans of the show. The answers were: TV Guide 20% fans, Entertainment Weekly 23% fans, Pop Culture Today 17% fans, SciPhi Phanatic 5% fans.\n",
    "### Based on these numbers, what percentage of adult Americans would you estimate were Brady Bunch fans on the 50th anniversary of the show?"
   ]
  },
  {
   "cell_type": "markdown",
   "metadata": {
    "collapsed": true
   },
   "source": [
    "Without any inference into the samples' size or overlap, I would take an average of all the percents:<br>\n",
    "$\\dfrac{20 + 23 + 17 + 5}{4}$ = <span style='font-size: large; font-weight: bold;'>11.25%</span>"
   ]
  },
  {
   "cell_type": "code",
   "execution_count": null,
   "metadata": {
    "collapsed": true
   },
   "outputs": [],
   "source": []
  }
 ],
 "metadata": {
  "kernelspec": {
   "display_name": "Python 3",
   "language": "python",
   "name": "python3"
  },
  "language_info": {
   "codemirror_mode": {
    "name": "ipython",
    "version": 3
   },
   "file_extension": ".py",
   "mimetype": "text/x-python",
   "name": "python",
   "nbconvert_exporter": "python",
   "pygments_lexer": "ipython3",
   "version": "3.6.1"
  }
 },
 "nbformat": 4,
 "nbformat_minor": 2
}
