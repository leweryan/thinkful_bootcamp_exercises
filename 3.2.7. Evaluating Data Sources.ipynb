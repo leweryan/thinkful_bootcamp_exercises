{
 "cells": [
  {
   "cell_type": "markdown",
   "metadata": {},
   "source": [
    "### In each of the scenarios, find possible shortcomings of the data sources to answer the given question. What could be done to either adjust the analysis or reframe the question so that you can answer it accurately?"
   ]
  },
  {
   "cell_type": "markdown",
   "metadata": {},
   "source": [
    "#### 1. Data Source: Amsterdam availability data scraped from AirBnB on December 24th.<br> Question: What are the popular neighborhoods in Amsterdam?"
   ]
  },
  {
   "cell_type": "markdown",
   "metadata": {},
   "source": [
    "Rephrase the question:<br>\n",
    "<ul>\n",
    "    <li>\"Popular\" should be quantifiable and scoped for data = 25% of neighborhoos with most bookings on AirBnB</li>\n",
    "    <li>Time should be scoped = Only for December 24th</li>\n",
    "    <li>Neighborhoods should be defined = zip code, one block, school districts, or a defined areas</li>\n",
    "</ul>\n",
    "<br>\n",
    "Question could become:<br>\n",
    "What are the top 25% zipcodes(neighborhoods) with the most AirBnB bookings (popular) on December 24th.<br>\n",
    "<br>\n",
    "Data source is prone to bias in that it uses a single service to define general popularity (demographic of the service may be skewed and so could be the regulation of AirBnB in certain areas), a single day (the fact that it is a holiday is a further exception, areas near holiday attractions may be more popular or everything might be booked), also neighborhoods is arbitrary (larger neighborhoods might have more buildings and thus more likely to have more bookings, but a lower percentage of closed to open bookings)."
   ]
  },
  {
   "cell_type": "markdown",
   "metadata": {},
   "source": [
    "#### 2. Data Source: Mental health services use on September 12, 2001 in San Francisco, CA and New York City, NY.<br>Question: How do patterns of mental health service use vary between cities?"
   ]
  },
  {
   "cell_type": "markdown",
   "metadata": {},
   "source": [
    "Rephrase the question:\n",
    "<ul>\n",
    "    <li>\"Patterns\" should be quantifiable and scoped for data = Total number of mental health services, type, number of repeat users </li>\n",
    "    <li>Time should be scoped = Only for September 12, 2001</li>\n",
    "    <li>Location should be scoped = San Francisco and New York</li>\n",
    "</ul>\n",
    "Question could become:<br>\n",
    "Comparison of total number and distribution of different mental health services between San Francisco, CA and New York, NY (location of the September 11 terrorist attack) the day after the September 11 terrorist attack.<br>\n",
    "<br>\n",
    "Data source is prone to bias in that it only includes two cities (large metropolitan areas), they might have different populations (and so number might be inherently higher in the larger city), only one date (which was the day after the September 11 terrorist attack in New York, NY, which likely caused need for mental health services in the city). We don't have data to compare to a more average case.<br>"
   ]
  },
  {
   "cell_type": "markdown",
   "metadata": {},
   "source": [
    "#### 3. Data Source: Armenian Pub Survey. <br>Question: What are the most common reasons Armenians visit local pubs?"
   ]
  },
  {
   "cell_type": "markdown",
   "metadata": {},
   "source": [
    "Rephrase the question:\n",
    "<ul>\n",
    "    <li>\"Most common\" should be quantifiable = Three reasons given the most</li>\n",
    "    <li>Time should be scoped = over what times was this survey administered</li>\n",
    "    <li>Location should be scoped = where was this survey administered (in pubs, on street, in preschools, etc.)</li>\n",
    "    <li>How was the survey administered (multiple choice, free answer, group vote)</li>\n",
    "    <li>How were participants selected (voluntarily, paid by a pub, drink vouchers, etc.)</li>\n",
    "</ul>\n",
    "\n",
    "Question could become (not much):\n",
    "According to the Armenian Pub Survey, what are the three most mentioned reasons Armenians visit local pubs?\n",
    "\n",
    "Data source is quite vague and surveys are inherently not very accurate."
   ]
  },
  {
   "cell_type": "code",
   "execution_count": null,
   "metadata": {
    "collapsed": true
   },
   "outputs": [],
   "source": []
  }
 ],
 "metadata": {
  "kernelspec": {
   "display_name": "Python 3",
   "language": "python",
   "name": "python3"
  },
  "language_info": {
   "codemirror_mode": {
    "name": "ipython",
    "version": 3
   },
   "file_extension": ".py",
   "mimetype": "text/x-python",
   "name": "python",
   "nbconvert_exporter": "python",
   "pygments_lexer": "ipython3",
   "version": "3.6.1"
  }
 },
 "nbformat": 4,
 "nbformat_minor": 2
}
