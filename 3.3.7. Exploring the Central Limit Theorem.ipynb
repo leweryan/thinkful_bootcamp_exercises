{
 "cells": [
  {
   "cell_type": "markdown",
   "metadata": {},
   "source": [
    "### Specifically, create two binomially distributed populations with n equal to 10 and size equal to 10000. The p-value of pop1 should be 0.2 and the p-value of pop2 should be 0.5. Using a sample size of 100, calculate the means and standard deviations of your samples.\n",
    "\n",
    "#### For each of the following tasks, first write what you expect will happen, then code the changes and observe what does happen. Discuss the results with your mentor.\n"
   ]
  },
  {
   "cell_type": "code",
   "execution_count": 61,
   "metadata": {},
   "outputs": [],
   "source": [
    "import numpy as np\n",
    "import pandas as pd\n",
    "import scipy\n",
    "import matplotlib.pyplot as plt\n",
    "%matplotlib inline\n",
    "\n",
    "pop1 = np.random.binomial(10, 0.2, 10000)\n",
    "pop2 = np.random.binomial(10, 0.5, 10000) \n",
    "\n",
    "# Let’s make histograms for the two groups. \n",
    "\n",
    "#plt.hist(pop1, alpha=0.5, label='Population 1') \n",
    "#plt.hist(pop2, alpha=0.5, label='Population 2') \n",
    "#plt.legend(loc='upper right') \n",
    "#plt.show()"
   ]
  },
  {
   "cell_type": "markdown",
   "metadata": {},
   "source": [
    "#### 1. Increase the size of your samples from 100 to 1000, then calculate the means and standard deviations for your new samples and create histograms for each. Repeat this again, decreasing the size of your samples to 20. What values change, and what remain the same?"
   ]
  },
  {
   "cell_type": "code",
   "execution_count": 62,
   "metadata": {
    "scrolled": true
   },
   "outputs": [
    {
     "data": {
      "image/png": "[encoded data removed]",
      "text/plain": [
       "<matplotlib.figure.Figure at 0x10ac124e0>"
      ]
     },
     "metadata": {},
     "output_type": "display_data"
    }
   ],
   "source": [
    "sample1_1000 = np.random.choice(pop1, 1000, replace=True)\n",
    "sample2_1000 = np.random.choice(pop2, 1000, replace=True)\n",
    "\n",
    "plt.hist(sample1_1000, alpha=0.5, label='sample 1') \n",
    "plt.hist(sample2_1000, alpha=0.5, label='sample 2') \n",
    "plt.legend(loc='upper right') \n",
    "plt.show()"
   ]
  },
  {
   "cell_type": "code",
   "execution_count": 63,
   "metadata": {
    "scrolled": true
   },
   "outputs": [
    {
     "data": {
      "image/png": "[encoded data removed]",
      "text/plain": [
       "<matplotlib.figure.Figure at 0x10a9e24e0>"
      ]
     },
     "metadata": {},
     "output_type": "display_data"
    }
   ],
   "source": [
    "sample1_20 = np.random.choice(pop1, 20, replace=True)\n",
    "sample2_20 = np.random.choice(pop2, 20, replace=True)\n",
    "\n",
    "plt.hist(sample1_20, alpha=0.5, label='sample 1') \n",
    "plt.hist(sample2_20, alpha=0.5, label='sample 2') \n",
    "plt.legend(loc='upper right') \n",
    "plt.show()"
   ]
  },
  {
   "cell_type": "markdown",
   "metadata": {},
   "source": [
    "I expect both mean and standard deviation to change more when decreasing the sample size, and can be greater or smaller. The smaller sample size will alternate between greater and lesser than the values of the larger sample size. The larger sample size values will stay more constant and consistently closer to the true values than the smaller sample."
   ]
  },
  {
   "cell_type": "code",
   "execution_count": 64,
   "metadata": {},
   "outputs": [
    {
     "name": "stdout",
     "output_type": "stream",
     "text": [
      "Sample1 (100 samples) Mean: 1.919\n",
      "Sample1 (100 samples) Standard Deviation: 1.2257401845415692\n",
      "\n",
      "Sample2 (100 samples) Mean: 4.928\n",
      "Sample2 (100 samples) Standard Deviation: 1.5122222058943586\n",
      "\n",
      "Sample1 (20 samples) Mean: 1.8\n",
      "Sample1 (20 samples) Standard Deviation: 0.9797958971132712\n",
      "\n",
      "Sample2 (20 samples) Mean: 4.6\n",
      "Sample2 (20 samples) Standard Deviation: 1.7146428199482247\n"
     ]
    }
   ],
   "source": [
    "print(\"Sample1 (100 samples) Mean: {}\\nSample1 (100 samples) Standard Deviation: {}\\n\".format(np.mean(sample1_1000), np.std(sample1_1000)))\n",
    "print(\"Sample2 (100 samples) Mean: {}\\nSample2 (100 samples) Standard Deviation: {}\\n\".format(np.mean(sample2_1000), np.std(sample2_1000)))\n",
    "print(\"Sample1 (20 samples) Mean: {}\\nSample1 (20 samples) Standard Deviation: {}\\n\".format(np.mean(sample1_20), np.std(sample1_20)))\n",
    "print(\"Sample2 (20 samples) Mean: {}\\nSample2 (20 samples) Standard Deviation: {}\".format(np.mean(sample2_20), np.std(sample2_20)))"
   ]
  },
  {
   "cell_type": "markdown",
   "metadata": {},
   "source": [
    "The mean and standard deviation indeed are further off from that of the population."
   ]
  },
  {
   "cell_type": "markdown",
   "metadata": {},
   "source": [
    "#### 2. Change the population value (p in the NumPy documentation) for pop1 to 0.3, then take new samples and compute the t-statistic and p-value. Then change the population value p for group 1 to 0.4, and do it again. What changes, and why?\n"
   ]
  },
  {
   "cell_type": "code",
   "execution_count": null,
   "metadata": {
    "collapsed": true
   },
   "outputs": [],
   "source": [
    "pop1 = np.random.binomial(10, 0.3, 10000)\n",
    "\n",
    "sample1_1000 = np.random.choice(pop1, 1000, replace=True)\n",
    "sample1_20 = np.random.choice(pop1, 20, replace=True)\n",
    "\n",
    "t_value\n",
    "p_value"
   ]
  },
  {
   "cell_type": "code",
   "execution_count": null,
   "metadata": {
    "collapsed": true
   },
   "outputs": [],
   "source": [
    "pop1 = np.random.binomial(10, 0.4, 10000)\n",
    "\n",
    "sample1_1000 = np.random.choice(pop1, 1000, replace=True)\n",
    "sample1_20 = np.random.choice(pop1, 20, replace=True)\n",
    "\n",
    "t_value\n",
    "p_value"
   ]
  },
  {
   "cell_type": "markdown",
   "metadata": {},
   "source": []
  },
  {
   "cell_type": "markdown",
   "metadata": {},
   "source": [
    "#### 3. Change the distribution of your populations from binomial to a distribution of your choice. Do the sample mean values still accurately represent the population values?"
   ]
  },
  {
   "cell_type": "markdown",
   "metadata": {},
   "source": []
  }
 ],
 "metadata": {
  "kernelspec": {
   "display_name": "Python 3",
   "language": "python",
   "name": "python3"
  },
  "language_info": {
   "codemirror_mode": {
    "name": "ipython",
    "version": 3
   },
   "file_extension": ".py",
   "mimetype": "text/x-python",
   "name": "python",
   "nbconvert_exporter": "python",
   "pygments_lexer": "ipython3",
   "version": "3.6.1"
  }
 },
 "nbformat": 4,
 "nbformat_minor": 2
}
