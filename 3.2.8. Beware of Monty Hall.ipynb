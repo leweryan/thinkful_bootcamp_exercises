{
 "cells": [
  {
   "cell_type": "markdown",
   "metadata": {},
   "source": [
    "### Monty Hall problem:\n",
    "#### You are on a game show and given the choice of whatever is behind three doors. Behind one door is a fantastic prize (some examples use a car, others use cash) while behind the other two doors is a dud (some examples say a goat, others say it's just empty). You pick a door. Then the host opens one of the other two doors to reveal a dud. But here's the wrinkle: the host now gives you the opportunity to switch your door. What should you do?\n",
    "#### In our calculations, we will have player choose an arbitrary door, say door 1.\n",
    "#### We will have host choose the (a) door the car is not behind of the remaining two, say door 2 (if car was in door 2, we would choose 3, but the probability would remain the same if we just switched the names of the doors), so our probabilities will remain true."
   ]
  },
  {
   "cell_type": "markdown",
   "metadata": {},
   "source": [
    "##### Probability of where car is (Cx = Car in door x) before player picks door :"
   ]
  },
  {
   "cell_type": "markdown",
   "metadata": {},
   "source": [
    "<table>\n",
    "<tr>\n",
    "    <td>Door 1</td>\n",
    "    <td>P(C1) = 33%</td>\n",
    "</tr>\n",
    "<tr>\n",
    "    <td>Door 2</td>\n",
    "    <td>P(C2) = 33%</td>\n",
    "</tr>\n",
    "<tr>\n",
    "    <td>Door 3</td>\n",
    "    <td>P(C3) = 33%</td>\n",
    "</tr>"
   ]
  },
  {
   "cell_type": "markdown",
   "metadata": {},
   "source": [
    "##### Probability after player picks door 1 as first pick:"
   ]
  },
  {
   "cell_type": "markdown",
   "metadata": {},
   "source": [
    "<table>\n",
    "<tr>\n",
    "    <td>Door 1</td>\n",
    "    <td>P(C1|P1) = 33%</td>\n",
    "</tr>\n",
    "<tr>\n",
    "    <td>Door 2</td>\n",
    "    <td>P(C2|P1) = 33%</td>\n",
    "</tr>\n",
    "<tr>\n",
    "    <td>Door 3</td>\n",
    "    <td>P(C3|P1) = 33%</td>\n",
    "</tr>"
   ]
  },
  {
   "cell_type": "markdown",
   "metadata": {},
   "source": [
    "##### Probability after player picks door 1 (P1) and host picks door 2 (H2):"
   ]
  },
  {
   "cell_type": "markdown",
   "metadata": {},
   "source": [
    "Given that the player chose door 1 (P1):\n",
    "<table width=\"100%\">\n",
    "<tr>\n",
    "    <td>Door 1 (Don't Switch)</td>\n",
    "    <td>$$P(C1|H2)$$ => Bayes' Law =><br>\n",
    "    $$= \\dfrac{P(H2|C1) * P(C1)}{P(H2|C1) * P(C1) + P(H2|inv(C1)) * P(inv(C1))}$$<br>\n",
    "    $$= \\dfrac{P(H2|C1) * P(C1)}{P(H2|C1) * P(C1) + P(H2|C2) * P(C2) + P(H2|C3) * P(C3)}$$<br>\n",
    "    $$= \\dfrac{0.5 * 0.33}{0.5 * 0.33 + 0 + 1 * 0.33}$$<br>\n",
    "    = <b>0.3333</b></td>\n",
    "</tr>\n",
    "<tr>\n",
    "    <td>Door 2 (Host Picks)</td>\n",
    "    \n",
    "    <td>$$P(C2|H2)$$ = <b>0</b> (host cannot pick door with car in it)</td>\n",
    "</tr>\n",
    "<tr>\n",
    "    <td>Door 3 (Switch)</td>\n",
    "    <td>$$P(C3|H2)$$ => Bayes' Law =><br>\n",
    "    $$= \\dfrac{P(H2|C3) * P(C3)}{P(H2|C3) * P(C3) + P(H2|inv(C3)) * P(inv(C3))}$$<br>\n",
    "    $$= \\dfrac{P(H2|C3) * P(C3)}{P(H2|C3) * P(C3) + P(H2|C1) * P(C1) + P(H2|C2) * P(C2)}$$<br>\n",
    "    $$= \\dfrac{1 * 0.33}{1 * 0.33 + 0.5 * 0.33 + 0}$$<br>\n",
    "    = <b>0.6667</b></td>\n",
    "</tr>"
   ]
  },
  {
   "cell_type": "markdown",
   "metadata": {},
   "source": [
    "We should switch, because switching the door is twice as likely to have the prize as keeping our choice.<br>\n",
    "SWITCHING has a chance of $$\\dfrac{2}{3}$$ to have the prize versus KEEPING our choice has a chance of $$\\dfrac{1}{3}$$\n",
    "\n"
   ]
  }
 ],
 "metadata": {
  "kernelspec": {
   "display_name": "Python 3",
   "language": "python",
   "name": "python3"
  },
  "language_info": {
   "codemirror_mode": {
    "name": "ipython",
    "version": 3
   },
   "file_extension": ".py",
   "mimetype": "text/x-python",
   "name": "python",
   "nbconvert_exporter": "python",
   "pygments_lexer": "ipython3",
   "version": "3.6.1"
  }
 },
 "nbformat": 4,
 "nbformat_minor": 2
}
